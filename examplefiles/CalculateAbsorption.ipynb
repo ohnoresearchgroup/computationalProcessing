{
 "cells": [
  {
   "cell_type": "code",
   "execution_count": 1,
   "id": "87ed8aed",
   "metadata": {},
   "outputs": [],
   "source": [
    "import sys\n",
    "sys.path.append(\"C:\\\\Users\\\\Admin\\\\Documents\\\\GitHub\\\\computationalProcessing\")"
   ]
  },
  {
   "cell_type": "code",
   "execution_count": 2,
   "id": "fd76965a",
   "metadata": {},
   "outputs": [],
   "source": [
    "from calculateAbsorption import CalculateAbsorption"
   ]
  },
  {
   "cell_type": "code",
   "execution_count": 6,
   "id": "93b166c6",
   "metadata": {},
   "outputs": [
    {
     "data": {
      "text/plain": [
       "-0.09700614999997015"
      ]
     },
     "execution_count": 6,
     "metadata": {},
     "output_type": "execute_result"
    }
   ],
   "source": [
    "filenamegso=\"C:\\\\Users\\\\Admin\\\\Desktop\\\\gsopfreq-wat.gjf.log\"\n",
    "filenameve=\"C:\\\\Users\\\\Admin\\\\Desktop\\\\water.gjf.log\"\n",
    "CalculateAbsorption(filenamegso,filenameve)"
   ]
  },
  {
   "cell_type": "code",
   "execution_count": null,
   "id": "15cf523b",
   "metadata": {},
   "outputs": [],
   "source": []
  }
 ],
 "metadata": {
  "kernelspec": {
   "display_name": "Python 3 (ipykernel)",
   "language": "python",
   "name": "python3"
  },
  "language_info": {
   "codemirror_mode": {
    "name": "ipython",
    "version": 3
   },
   "file_extension": ".py",
   "mimetype": "text/x-python",
   "name": "python",
   "nbconvert_exporter": "python",
   "pygments_lexer": "ipython3",
   "version": "3.11.5"
  }
 },
 "nbformat": 4,
 "nbformat_minor": 5
}
